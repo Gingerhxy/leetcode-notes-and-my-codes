{
 "cells": [
  {
   "cell_type": "markdown",
   "metadata": {},
   "source": [
    "# 01.01.05 练习题目（第 02 天）\n",
    "\n",
    "## 1. [1480. 一维数组的动态和](https://leetcode.cn/problems/running-sum-of-1d-array/)\n",
    "\n",
    "### 1.1 题目大意\n",
    "\n",
    "**描述**：给定一个数组 $nums$。\n",
    "\n",
    "**要求**：返回数组 $nums$ 的动态和。\n",
    "\n",
    "**说明**：\n",
    "\n",
    "- **动态和**：数组前 $i$ 项元素和构成的数组，计算公式为 $runningSum[i] = \\sum_{x = 0}^{x = i}(nums[i])$。\n",
    "- $1 \\le nums.length \\le 1000$。\n",
    "- $-10^6 \\le nums[i] \\le 10^6$。\n",
    "\n",
    "**示例**：\n",
    "\n",
    "- 示例 1：\n",
    "\n",
    "```python\n",
    "输入：nums = [1,2,3,4]\n",
    "输出：[1,3,6,10]\n",
    "解释：动态和计算过程为 [1, 1+2, 1+2+3, 1+2+3+4]。\n",
    "```\n",
    "\n",
    "- 示例 2：\n",
    "\n",
    "```python\n",
    "输入：nums = [1,1,1,1,1]\n",
    "输出：[1,2,3,4,5]\n",
    "解释：动态和计算过程为 [1, 1+1, 1+1+1, 1+1+1+1, 1+1+1+1+1]。\n",
    "```"
   ]
  },
  {
   "cell_type": "code",
   "execution_count": 1,
   "metadata": {},
   "outputs": [],
   "source": [
    "class Solution(object):\n",
    "    def runningSum(self, nums):\n",
    "        a=0\n",
    "        for i in range(len(nums)):\n",
    "            a=a+nums[i]\n",
    "            nums[i]=a\n",
    "        return nums"
   ]
  },
  {
   "cell_type": "markdown",
   "metadata": {},
   "source": [
    "## 2. [0709. 转换成小写字母](https://leetcode.cn/problems/to-lower-case/)\n",
    "\n",
    "### 2.1 题目大意\n",
    "\n",
    "**描述**：给定一个字符串 $s$。\n",
    "\n",
    "**要求**：将该字符串中的大写字母转换成相同的小写字母，返回新的字符串。\n",
    "\n",
    "**说明**：\n",
    "\n",
    "- $1 \\le s.length \\le 100$。\n",
    "- $s$ 由 ASCII 字符集中的可打印字符组成。\n",
    "\n",
    "**示例**：\n",
    "\n",
    "- 示例 1：\n",
    "\n",
    "```python\n",
    "输入：s = \"Hello\"\n",
    "输出：\"hello\"\n",
    "```\n",
    "\n",
    "- 示例 2：\n",
    "\n",
    "```python\n",
    "输入：s = \"LOVELY\"\n",
    "输出：\"lovely\"\n",
    "```"
   ]
  },
  {
   "cell_type": "code",
   "execution_count": 2,
   "metadata": {},
   "outputs": [],
   "source": [
    "class Solution(object):\n",
    "    def toLowerCase(self, s):\n",
    "        return s.lower()"
   ]
  },
  {
   "cell_type": "markdown",
   "metadata": {},
   "source": [
    "## 3. [1672. 最富有客户的资产总量](https://leetcode.cn/problems/richest-customer-wealth/)\n",
    "\n",
    "### 3.1 题目大意\n",
    "\n",
    "**描述**：给定一个 $m \\times n$ 的整数网格 $accounts$，其中 $accounts[i][j]$ 是第 $i$ 位客户在第 $j$ 家银行托管的资产数量。\n",
    "\n",
    "**要求**：返回最富有客户所拥有的资产总量。\n",
    "\n",
    "**说明**：\n",
    "\n",
    "- 客户的资产总量：指的是他们在各家银行托管的资产数量之和。\n",
    "- 最富有客户：资产总量最大的客户。\n",
    "- $m == accounts.length$。\n",
    "- $n == accounts[i].length$。\n",
    "- $1 \\le m, n \\le 50$。\n",
    "- $1 \\le accounts[i][j] \\le 100$。\n",
    "\n",
    "**示例**：\n",
    "\n",
    "- 示例 1：\n",
    "\n",
    "```python\n",
    "输入：accounts = [[1,2,3],[3,2,1]]\n",
    "输出：6\n",
    "解释：\n",
    "第 1 位客户的资产总量 = 1 + 2 + 3 = 6\n",
    "第 2 位客户的资产总量 = 3 + 2 + 1 = 6\n",
    "两位客户都是最富有的，资产总量都是 6 ，所以返回 6。\n",
    "```\n",
    "\n",
    "- 示例 2：\n",
    "\n",
    "```python\n",
    "输入：accounts = [[1,5],[7,3],[3,5]]\n",
    "输出：10\n",
    "解释：\n",
    "第 1 位客户的资产总量 = 6\n",
    "第 2 位客户的资产总量 = 10 \n",
    "第 3 位客户的资产总量 = 8\n",
    "第 2 位客户是最富有的，资产总量是 10，所以返回 10。\n",
    "```"
   ]
  },
  {
   "cell_type": "code",
   "execution_count": null,
   "metadata": {},
   "outputs": [],
   "source": []
  }
 ],
 "metadata": {
  "kernelspec": {
   "display_name": "Python 3",
   "language": "python",
   "name": "python3"
  },
  "language_info": {
   "codemirror_mode": {
    "name": "ipython",
    "version": 3
   },
   "file_extension": ".py",
   "mimetype": "text/x-python",
   "name": "python",
   "nbconvert_exporter": "python",
   "pygments_lexer": "ipython3",
   "version": "3.7.6"
  }
 },
 "nbformat": 4,
 "nbformat_minor": 4
}
