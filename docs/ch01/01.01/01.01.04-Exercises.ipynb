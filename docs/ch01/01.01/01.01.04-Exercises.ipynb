{
 "cells": [
  {
   "cell_type": "markdown",
   "metadata": {},
   "source": [
    "# 01.01.04 练习题目（第 01 天）\n",
    "\n",
    "## 1. [2235. 两整数相加](https://leetcode.cn/problems/add-two-integers/)\n",
    "\n",
    "### 1.1 题目大意\n",
    "\n",
    "**描述**：给定两个整数 $num1$ 和 $num2$。\n",
    "\n",
    "**要求**：返回这两个整数的和。\n",
    "\n",
    "**说明**：\n",
    "\n",
    "- $-100 \\le num1, num2 \\le 100$。\n",
    "\n",
    "**示例**：\n",
    "\n",
    "- 示例 1：\n",
    "\n",
    "```python\n",
    "示例 1：\n",
    "输入：num1 = 12, num2 = 5\n",
    "输出：17\n",
    "解释：num1 是 12，num2 是 5，它们的和是 12 + 5 = 17，因此返回 17。\n",
    "```\n",
    "\n",
    "- 示例 2：\n",
    "\n",
    "```python\n",
    "输入：num1 = -10, num2 = 4\n",
    "输出：-6\n",
    "解释：num1 + num2 = -6，因此返回 -6。\n",
    "```"
   ]
  },
  {
   "cell_type": "code",
   "execution_count": 19,
   "metadata": {},
   "outputs": [],
   "source": [
    "class Solution(object):\n",
    "    def sum(self, num1, num2):\n",
    "        return num1+num2"
   ]
  },
  {
   "cell_type": "markdown",
   "metadata": {},
   "source": [
    "## 2. [1929. 数组串联](https://leetcode.cn/problems/concatenation-of-array/)\n",
    "\n",
    "### 2.1 题目大意\n",
    "\n",
    "**描述**：给定一个长度为 $n$ 的整数数组 $nums$。\n",
    "\n",
    "**要求**：构建一个长度为 $2 \\times n$ 的答案数组 $ans$，答案数组下标从 $0$ 开始计数 ，对于所有 $0 \\le i < n$ 的 $i$ ，满足下述所有要求：\n",
    "\n",
    "- $ans[i] == nums[i]$。\n",
    "- $ans[i + n] == nums[i]$。\n",
    "\n",
    "具体而言，$ans$ 由两个 $nums$ 数组「串联」形成。\n",
    "\n",
    "**说明**：\n",
    "\n",
    "- $n == nums.length$。\n",
    "- $1 \\le n \\le 1000$。\n",
    "- $1 \\le nums[i] \\le 1000$。\n",
    "\n",
    "**示例**：\n",
    "\n",
    "- 示例 1：\n",
    "\n",
    "```python\n",
    "输入：nums = [1,2,1]\n",
    "输出：[1,2,1,1,2,1]\n",
    "解释：数组 ans 按下述方式形成：\n",
    "- ans = [nums[0],nums[1],nums[2],nums[0],nums[1],nums[2]]\n",
    "- ans = [1,2,1,1,2,1]\n",
    "```\n",
    "\n",
    "- 示例 2：\n",
    "\n",
    "```python\n",
    "输入：nums = [1,3,2,1]\n",
    "输出：[1,3,2,1,1,3,2,1]\n",
    "解释：数组 ans 按下述方式形成：\n",
    "- ans = [nums[0],nums[1],nums[2],nums[3],nums[0],nums[1],nums[2],nums[3]]\n",
    "- ans = [1,3,2,1,1,3,2,1]\n",
    "```"
   ]
  },
  {
   "cell_type": "code",
   "execution_count": 6,
   "metadata": {},
   "outputs": [],
   "source": [
    "class Solution(object):\n",
    "    def getConcatenation(self, nums):\n",
    "        n = len(nums)\n",
    "        ans = nums\n",
    "        for i in range(n):\n",
    "            ans.append(nums[i])\n",
    "        return ans"
   ]
  },
  {
   "cell_type": "markdown",
   "metadata": {},
   "source": [
    "## 3. [0771. 宝石与石头](https://leetcode.cn/problems/jewels-and-stones/)\n",
    "\n",
    "### 3.1 题目大意\n",
    "\n",
    "**描述**：给定一个字符串 $jewels$ 代表石头中宝石的类型，再给定一个字符串 $stones$ 代表你拥有的石头。$stones$ 中每个字符代表了一种你拥有的石头的类型。\n",
    "\n",
    "**要求**：计算出拥有的石头中有多少是宝石。\n",
    "\n",
    "**说明**：\n",
    "\n",
    "- 字母区分大小写，因此 $a$ 和 $A$ 是不同类型的石头。\n",
    "- $1 \\le jewels.length, stones.length \\le 50$。\n",
    "- $jewels$ 和 $stones$ 仅由英文字母组成。\n",
    "- $jewels$ 中的所有字符都是唯一的。\n",
    "\n",
    "**示例**：\n",
    "\n",
    "- 示例 1：\n",
    "\n",
    "```python\n",
    "输入：jewels = \"aA\", stones = \"aAAbbbb\"\n",
    "输出：3\n",
    "```\n",
    "\n",
    "- 示例 2：\n",
    "\n",
    "```python\n",
    "输入：jewels = \"z\", stones = \"ZZ\"\n",
    "输出：0\n",
    "```"
   ]
  },
  {
   "cell_type": "code",
   "execution_count": 12,
   "metadata": {},
   "outputs": [],
   "source": [
    "class Solution(object):\n",
    "    def numJewelsInStones(self, jewels, stones):\n",
    "        s=0\n",
    "        for i in range(len(stones)):\n",
    "            for j in range(len(jewels)):\n",
    "                if stones[i]==jewels[j]:\n",
    "                    s=s+1\n",
    "        return s"
   ]
  }
 ],
 "metadata": {
  "kernelspec": {
   "display_name": "Python 3",
   "language": "python",
   "name": "python3"
  },
  "language_info": {
   "codemirror_mode": {
    "name": "ipython",
    "version": 3
   },
   "file_extension": ".py",
   "mimetype": "text/x-python",
   "name": "python",
   "nbconvert_exporter": "python",
   "pygments_lexer": "ipython3",
   "version": "3.7.6"
  }
 },
 "nbformat": 4,
 "nbformat_minor": 4
}
